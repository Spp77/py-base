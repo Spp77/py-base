{
  "nbformat": 4,
  "nbformat_minor": 0,
  "metadata": {
    "colab": {
      "provenance": [],
      "authorship_tag": "ABX9TyMJ/xTRv8qBT6BvyJGt3lUM",
      "include_colab_link": true
    },
    "kernelspec": {
      "name": "python3",
      "display_name": "Python 3"
    },
    "language_info": {
      "name": "python"
    }
  },
  "cells": [
    {
      "cell_type": "markdown",
      "metadata": {
        "id": "view-in-github",
        "colab_type": "text"
      },
      "source": [
        "<a href=\"https://colab.research.google.com/github/Spp77/py-base/blob/main/py_base.ipynb\" target=\"_parent\"><img src=\"https://colab.research.google.com/assets/colab-badge.svg\" alt=\"Open In Colab\"/></a>"
      ]
    },
    {
      "cell_type": "code",
      "execution_count": null,
      "metadata": {
        "colab": {
          "base_uri": "https://localhost:8080/"
        },
        "id": "uGgYwJC9u-c1",
        "outputId": "28666f0f-aa16-42b9-cdc7-0fe85c1cb95b"
      },
      "outputs": [
        {
          "output_type": "stream",
          "name": "stdout",
          "text": [
            "hello world!\n"
          ]
        }
      ],
      "source": [
        "print (\"hello world!\")"
      ]
    },
    {
      "cell_type": "code",
      "source": [
        "a = 10\n",
        "b = 10.5\n",
        "c = \"python\"\n",
        "d = True\n",
        "e = None\n",
        "print (type(a), type(b), type(c), type(e))\n"
      ],
      "metadata": {
        "id": "rDsq_AfxzbOH",
        "colab": {
          "base_uri": "https://localhost:8080/"
        },
        "outputId": "2116903a-7694-4d76-ba6b-589837140c69"
      },
      "execution_count": null,
      "outputs": [
        {
          "output_type": "stream",
          "name": "stdout",
          "text": [
            "<class 'int'> <class 'float'> <class 'str'> <class 'NoneType'>\n"
          ]
        }
      ]
    },
    {
      "cell_type": "code",
      "source": [],
      "metadata": {
        "id": "4CVTWLm0VtlP"
      },
      "execution_count": null,
      "outputs": []
    },
    {
      "cell_type": "code",
      "source": [],
      "metadata": {
        "id": "VHVD3zijVvGz"
      },
      "execution_count": null,
      "outputs": []
    },
    {
      "cell_type": "code",
      "source": [
        "age = 17\n",
        "\n",
        "if (age == 18 or age > 18):\n",
        "  print(\"your a adult.\")\n",
        "\n",
        "elif age >=13:\n",
        "  print(\"your a teenager.\")\n",
        "\n",
        "else:\n",
        "  print(\"your a child.\")\n"
      ],
      "metadata": {
        "id": "_-IKLE6OW4D6",
        "colab": {
          "base_uri": "https://localhost:8080/"
        },
        "outputId": "624fc288-284d-4acb-84d8-c7a786b1954d"
      },
      "execution_count": null,
      "outputs": [
        {
          "output_type": "stream",
          "name": "stdout",
          "text": [
            "your a teenager.\n"
          ]
        }
      ]
    },
    {
      "cell_type": "code",
      "source": [
        "i = 1\n",
        "while i <= 7:\n",
        "    print(\"i =\", i)\n",
        "    i+= 1"
      ],
      "metadata": {
        "colab": {
          "base_uri": "https://localhost:8080/"
        },
        "id": "PEYkYfo_6SUK",
        "outputId": "df6ffb1a-2ba8-4fb5-a3c3-c09e5b841093"
      },
      "execution_count": null,
      "outputs": [
        {
          "output_type": "stream",
          "name": "stdout",
          "text": [
            "i = 1\n",
            "i = 2\n",
            "i = 3\n",
            "i = 4\n",
            "i = 5\n",
            "i = 6\n",
            "i = 7\n"
          ]
        }
      ]
    },
    {
      "cell_type": "code",
      "source": [
        "for  i in range(1,8):\n",
        "    print(\"i=\", i)"
      ],
      "metadata": {
        "colab": {
          "base_uri": "https://localhost:8080/"
        },
        "id": "1rCmAvjUDX3P",
        "outputId": "4d682a53-8c0a-41e4-8769-ba3a1c61a16d"
      },
      "execution_count": null,
      "outputs": [
        {
          "output_type": "stream",
          "name": "stdout",
          "text": [
            "i= 1\n",
            "i= 2\n",
            "i= 3\n",
            "i= 4\n",
            "i= 5\n",
            "i= 6\n",
            "i= 7\n"
          ]
        }
      ]
    },
    {
      "cell_type": "code",
      "source": [
        "print(\"*\" * 10)\n"
      ],
      "metadata": {
        "id": "U_run9a_0aBQ",
        "colab": {
          "base_uri": "https://localhost:8080/"
        },
        "outputId": "f779e7ce-e6d2-4617-c5e5-de5e44833e14"
      },
      "execution_count": null,
      "outputs": [
        {
          "output_type": "stream",
          "name": "stdout",
          "text": [
            "**********\n"
          ]
        }
      ]
    },
    {
      "cell_type": "code",
      "source": [
        "def area(a,b):\n",
        "  return a * b\n",
        "\n",
        "print(area(2,4))"
      ],
      "metadata": {
        "id": "vq7eCmAOt1ge",
        "colab": {
          "base_uri": "https://localhost:8080/"
        },
        "outputId": "5d721268-1ab4-4793-c8bc-e4e39c7dacd5"
      },
      "execution_count": null,
      "outputs": [
        {
          "output_type": "stream",
          "name": "stdout",
          "text": [
            "8\n"
          ]
        }
      ]
    },
    {
      "cell_type": "code",
      "source": [
        "num = 7\n",
        "\n",
        "if num % 2 == 0:\n",
        "  print(\"even number\")\n",
        "else:\n",
        "  print(\"odd number\")\n",
        "\n",
        "\n"
      ],
      "metadata": {
        "colab": {
          "base_uri": "https://localhost:8080/"
        },
        "id": "s946zjuXSRnc",
        "outputId": "f4c83862-c7e5-49aa-98cc-8acb0fbfc45c"
      },
      "execution_count": null,
      "outputs": [
        {
          "output_type": "stream",
          "name": "stdout",
          "text": [
            "odd number\n"
          ]
        }
      ]
    },
    {
      "cell_type": "code",
      "source": [
        "for i in range(1, 7):\n",
        "    if i == 5:\n",
        "        print(\"lets goo\")\n",
        "    else:\n",
        "        print(\"okk\")\n",
        "        print(\"Square of\", i, \"is\", i * i)\n"
      ],
      "metadata": {
        "colab": {
          "base_uri": "https://localhost:8080/"
        },
        "id": "YR0yg5ixpvTr",
        "outputId": "e6f238c9-3d5f-41f4-d0c3-0b40249f65cb"
      },
      "execution_count": null,
      "outputs": [
        {
          "output_type": "stream",
          "name": "stdout",
          "text": [
            "okk\n",
            "Square of 1 is 1\n",
            "okk\n",
            "Square of 2 is 4\n",
            "okk\n",
            "Square of 3 is 9\n",
            "okk\n",
            "Square of 4 is 16\n",
            "okk\n",
            "Square of 5 is 25\n",
            "okk\n",
            "Square of 6 is 36\n"
          ]
        }
      ]
    },
    {
      "cell_type": "markdown",
      "source": [],
      "metadata": {
        "id": "sN_cu4ZVV1HI"
      }
    },
    {
      "cell_type": "code",
      "source": [
        "numbers = input(\"Enter numbers separated by commas: \")\n",
        "numbers = numbers.split(\",\")  # converts \"2,3,4\" → [\"2\", \"3\", \"4\"]\n",
        "\n",
        "for n in numbers:\n",
        "    n = int(n.strip())  # Remove spaces and convert to int\n",
        "\n",
        "    # Check if number is prime\n",
        "    if n < 2:\n",
        "        print(f\"{n} is NOT a prime number.\")\n",
        "    else:\n",
        "        is_prime = True\n",
        "        for i in range(2, int(n**0.5) + 1):\n",
        "            if n % i == 0:\n",
        "                is_prime = False\n",
        "                break\n",
        "\n",
        "        if is_prime:\n",
        "            print(f\"{n} is a PRIME number. Square is {n * n}\")\n",
        "        else:\n",
        "            print(f\"{n} is NOT a prime number. Cube is {n ** 3}\")\n",
        "\n"
      ],
      "metadata": {
        "id": "_0rEzt4J5qH9",
        "colab": {
          "base_uri": "https://localhost:8080/"
        },
        "outputId": "66e41d07-2284-4ae1-bd52-cc2f3c8a946b"
      },
      "execution_count": 1,
      "outputs": [
        {
          "output_type": "stream",
          "name": "stdout",
          "text": [
            "Enter numbers separated by commas: 2\n",
            "2 is a PRIME number. Square is 4\n"
          ]
        }
      ]
    },
    {
      "cell_type": "code",
      "source": [],
      "metadata": {
        "id": "gIDRlyw7097P"
      },
      "execution_count": null,
      "outputs": []
    }
  ]
}