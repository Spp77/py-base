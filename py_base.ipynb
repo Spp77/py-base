{
  "nbformat": 4,
  "nbformat_minor": 0,
  "metadata": {
    "colab": {
      "provenance": [],
      "mount_file_id": "1coskVpwQWuCuwwf6gNZcLn2GUQLPlZaL",
      "authorship_tag": "ABX9TyNJAW9+SUKgVhS8Yqltr83B",
      "include_colab_link": true
    },
    "kernelspec": {
      "name": "python3",
      "display_name": "Python 3"
    },
    "language_info": {
      "name": "python"
    }
  },
  "cells": [
    {
      "cell_type": "markdown",
      "metadata": {
        "id": "view-in-github",
        "colab_type": "text"
      },
      "source": [
        "<a href=\"https://colab.research.google.com/github/Spp77/py-base/blob/main/py_base.ipynb\" target=\"_parent\"><img src=\"https://colab.research.google.com/assets/colab-badge.svg\" alt=\"Open In Colab\"/></a>"
      ]
    },
    {
      "cell_type": "code",
      "execution_count": null,
      "metadata": {
        "id": "uGgYwJC9u-c1",
        "colab": {
          "base_uri": "https://localhost:8080/"
        },
        "outputId": "39db190c-b9c5-4fff-a69a-7ef3e002c664"
      },
      "outputs": [
        {
          "output_type": "stream",
          "name": "stdout",
          "text": [
            "hello world!\n"
          ]
        }
      ],
      "source": [
        "print (\"hello world!\")"
      ]
    },
    {
      "cell_type": "code",
      "source": [
        "a = 10\n",
        "b = 10.5\n",
        "c = \"python\"\n",
        "d = True\n",
        "e = None\n",
        "print (type(a), type(b), type(c), type(e))\n"
      ],
      "metadata": {
        "id": "rDsq_AfxzbOH",
        "colab": {
          "base_uri": "https://localhost:8080/"
        },
        "outputId": "385f114c-a9f4-4095-cb54-c84a5550312e"
      },
      "execution_count": null,
      "outputs": [
        {
          "metadata": {
            "tags": null
          },
          "name": "stdout",
          "output_type": "stream",
          "text": [
            "<class 'int'> <class 'float'> <class 'str'> <class 'NoneType'>\n"
          ]
        }
      ]
    },
    {
      "cell_type": "code",
      "source": [],
      "metadata": {
        "id": "4CVTWLm0VtlP"
      },
      "execution_count": null,
      "outputs": []
    },
    {
      "cell_type": "code",
      "source": [],
      "metadata": {
        "id": "VHVD3zijVvGz"
      },
      "execution_count": null,
      "outputs": []
    },
    {
      "cell_type": "code",
      "source": [
        "age = 17\n",
        "\n",
        "if (age == 18 or age > 18):\n",
        "  print(\"your a adult.\")\n",
        "\n",
        "elif age >=13:\n",
        "  print(\"your a teenager.\")\n",
        "\n",
        "else:\n",
        "  print(\"your a child.\")\n"
      ],
      "metadata": {
        "id": "_-IKLE6OW4D6",
        "colab": {
          "base_uri": "https://localhost:8080/"
        },
        "outputId": "ea9e1833-6d62-4123-93c1-e93dd57852b7"
      },
      "execution_count": null,
      "outputs": [
        {
          "metadata": {
            "tags": null
          },
          "name": "stdout",
          "output_type": "stream",
          "text": [
            "your a teenager.\n"
          ]
        }
      ]
    },
    {
      "cell_type": "code",
      "source": [
        "i = 1\n",
        "while i <= 7:\n",
        "    print(\"i =\", i)\n",
        "    i+= 1"
      ],
      "metadata": {
        "id": "PEYkYfo_6SUK",
        "colab": {
          "base_uri": "https://localhost:8080/"
        },
        "outputId": "7f2fb3d8-ff34-4c17-ea2b-d9e623b7b8b1"
      },
      "execution_count": null,
      "outputs": [
        {
          "metadata": {
            "tags": null
          },
          "name": "stdout",
          "output_type": "stream",
          "text": [
            "i = 1\n",
            "i = 2\n",
            "i = 3\n",
            "i = 4\n",
            "i = 5\n",
            "i = 6\n",
            "i = 7\n"
          ]
        }
      ]
    },
    {
      "cell_type": "code",
      "source": [
        "for  i in range(1,8):\n",
        "    print(\"i=\", i)"
      ],
      "metadata": {
        "id": "1rCmAvjUDX3P",
        "colab": {
          "base_uri": "https://localhost:8080/"
        },
        "outputId": "712a51f3-7d88-4578-bd95-f0e779c28a48"
      },
      "execution_count": null,
      "outputs": [
        {
          "metadata": {
            "tags": null
          },
          "name": "stdout",
          "output_type": "stream",
          "text": [
            "i= 1\n",
            "i= 2\n",
            "i= 3\n",
            "i= 4\n",
            "i= 5\n",
            "i= 6\n",
            "i= 7\n"
          ]
        }
      ]
    },
    {
      "cell_type": "code",
      "source": [
        "print(\"*\" * 10)\n"
      ],
      "metadata": {
        "id": "U_run9a_0aBQ",
        "colab": {
          "base_uri": "https://localhost:8080/"
        },
        "outputId": "3de7fb66-4626-4d9a-87f5-7165688c31d2"
      },
      "execution_count": null,
      "outputs": [
        {
          "metadata": {
            "tags": null
          },
          "name": "stdout",
          "output_type": "stream",
          "text": [
            "**********\n"
          ]
        }
      ]
    },
    {
      "cell_type": "code",
      "source": [
        "def area(a,b):\n",
        "  return a * b\n",
        "\n",
        "print(area(2,4))"
      ],
      "metadata": {
        "id": "vq7eCmAOt1ge",
        "colab": {
          "base_uri": "https://localhost:8080/"
        },
        "outputId": "f9c98e78-fb37-4872-e554-1b23fe7a6cc1"
      },
      "execution_count": null,
      "outputs": [
        {
          "output_type": "stream",
          "name": "stdout",
          "text": [
            "8\n"
          ]
        }
      ]
    },
    {
      "cell_type": "code",
      "source": [
        "num = 7\n",
        "\n",
        "if num % 2 == 0:\n",
        "  print(\"even number\")\n",
        "else:\n",
        "  print(\"odd number\")\n",
        "\n",
        "\n"
      ],
      "metadata": {
        "id": "s946zjuXSRnc",
        "colab": {
          "base_uri": "https://localhost:8080/"
        },
        "outputId": "d145e39a-9e40-45c7-f53c-6e4391b17e78"
      },
      "execution_count": null,
      "outputs": [
        {
          "output_type": "stream",
          "name": "stdout",
          "text": [
            "odd number\n"
          ]
        }
      ]
    },
    {
      "cell_type": "code",
      "source": [
        "for i in range(1, 7):\n",
        "    if i == 5:\n",
        "        print(\"lets goo\")\n",
        "    else:\n",
        "        print(\"okk\")\n",
        "        print(\"Square of\", i, \"is\", i * i)\n"
      ],
      "metadata": {
        "id": "YR0yg5ixpvTr",
        "colab": {
          "base_uri": "https://localhost:8080/"
        },
        "outputId": "3fbf0689-39d2-475b-a858-8561aff8c393"
      },
      "execution_count": null,
      "outputs": [
        {
          "output_type": "stream",
          "name": "stdout",
          "text": [
            "okk\n",
            "Square of 1 is 1\n",
            "okk\n",
            "Square of 2 is 4\n",
            "okk\n",
            "Square of 3 is 9\n",
            "okk\n",
            "Square of 4 is 16\n",
            "lets goo\n",
            "okk\n",
            "Square of 6 is 36\n"
          ]
        }
      ]
    },
    {
      "cell_type": "markdown",
      "source": [],
      "metadata": {
        "id": "sN_cu4ZVV1HI"
      }
    },
    {
      "cell_type": "code",
      "source": [
        "numbers = input(\"Enter numbers separated by commas: \")\n",
        "numbers = numbers.split(\",\")  # converts \"2,3,4\" → [\"2\", \"3\", \"4\"]\n",
        "\n",
        "for n in numbers:\n",
        "    n = int(n.strip())  # Remove spaces and convert to int\n",
        "\n",
        "    # Check if number is prime\n",
        "    if n < 2:\n",
        "        print(f\"{n} is NOT a prime number.\")\n",
        "    else:\n",
        "        is_prime = True\n",
        "        for i in range(2, int(n**0.5) + 1):\n",
        "            if n % i == 0:\n",
        "                is_prime = False\n",
        "                break\n",
        "\n",
        "        if is_prime:\n",
        "            print(f\"{n} is a PRIME number. Square is {n * n}\")\n",
        "        else:\n",
        "            print(f\"{n} is NOT a prime number. Cube is {n ** 3}\")\n",
        "\n"
      ],
      "metadata": {
        "id": "_0rEzt4J5qH9",
        "colab": {
          "base_uri": "https://localhost:8080/"
        },
        "outputId": "6c8f49fc-a80c-42ca-9ecd-f85c6e1a4bbd"
      },
      "execution_count": null,
      "outputs": [
        {
          "output_type": "stream",
          "name": "stdout",
          "text": [
            "Enter numbers separated by commas: 2\n",
            "2 is a PRIME number. Square is 4\n"
          ]
        }
      ]
    },
    {
      "cell_type": "code",
      "source": [
        "numbers = [1, 2, 3, 4, 5]\n",
        "print(numbers[0])\n",
        "numbers.append(6)\n",
        "print(numbers)\n",
        "\n"
      ],
      "metadata": {
        "id": "gIDRlyw7097P",
        "colab": {
          "base_uri": "https://localhost:8080/"
        },
        "outputId": "929b1bee-d324-4d4a-cb5d-bd94ccee8a4d"
      },
      "execution_count": null,
      "outputs": [
        {
          "output_type": "stream",
          "name": "stdout",
          "text": [
            "1\n",
            "[1, 2, 3, 4, 5, 6]\n"
          ]
        }
      ]
    },
    {
      "cell_type": "code",
      "source": [
        "number = [10,20,30,40,50]\n",
        "print(number[0])\n",
        "number.append(40)\n",
        "print(number)\n"
      ],
      "metadata": {
        "id": "VPDttsT3vXHT",
        "colab": {
          "base_uri": "https://localhost:8080/"
        },
        "outputId": "9c5e5a81-cdfa-4ea2-c2e4-59b8bb835b34"
      },
      "execution_count": null,
      "outputs": [
        {
          "metadata": {
            "tags": null
          },
          "name": "stdout",
          "output_type": "stream",
          "text": [
            "10\n",
            "[10, 20, 30, 40, 50, 40]\n"
          ]
        }
      ]
    },
    {
      "cell_type": "code",
      "source": [
        "def greet(name):\n",
        "  return f\"hello,{name}!\"\n",
        "message = greet(\"bhavesh\")\n",
        "print(message)\n"
      ],
      "metadata": {
        "id": "uE6dO2oD1G9I",
        "colab": {
          "base_uri": "https://localhost:8080/"
        },
        "outputId": "9d4c72e5-4e85-469d-a815-68a1b80bf636"
      },
      "execution_count": null,
      "outputs": [
        {
          "output_type": "stream",
          "name": "stdout",
          "text": [
            "hello,bhavesh!\n"
          ]
        }
      ]
    },
    {
      "cell_type": "code",
      "source": [
        "squares = []\n",
        "for i in range(7):\n",
        "  squares.append(i * i)\n",
        "\n",
        "  print(squares)"
      ],
      "metadata": {
        "id": "rz8NzE5v2n50",
        "colab": {
          "base_uri": "https://localhost:8080/"
        },
        "outputId": "cecd324e-c210-41c6-804f-2a0fb0a097b1"
      },
      "execution_count": null,
      "outputs": [
        {
          "metadata": {
            "tags": null
          },
          "name": "stdout",
          "output_type": "stream",
          "text": [
            "[0]\n",
            "[0, 1]\n",
            "[0, 1, 4]\n",
            "[0, 1, 4, 9]\n",
            "[0, 1, 4, 9, 16]\n",
            "[0, 1, 4, 9, 16, 25]\n",
            "[0, 1, 4, 9, 16, 25, 36]\n"
          ]
        }
      ]
    },
    {
      "cell_type": "code",
      "source": [
        "squares = [i * i for i in range(7)]\n",
        "print(squares)"
      ],
      "metadata": {
        "id": "UfDdM2Sp-FdS",
        "colab": {
          "base_uri": "https://localhost:8080/"
        },
        "outputId": "339ff1b9-b04d-4d13-fbf8-a2e524981c62"
      },
      "execution_count": null,
      "outputs": [
        {
          "metadata": {
            "tags": null
          },
          "name": "stdout",
          "output_type": "stream",
          "text": [
            "[0, 1, 4, 9, 16, 25, 36]\n"
          ]
        }
      ]
    },
    {
      "cell_type": "code",
      "source": [
        "#class\n",
        "\n",
        "class car:\n",
        "  def __init__(self, brand, model):\n",
        "    self.brand = brand\n",
        "    self.model = model\n",
        "\n",
        "  def start(self):\n",
        "    print(f\"{self.brand} {self.model} is starting....\")\n",
        "\n",
        "\n",
        "#object\n",
        "my_car = car(\"TATA\",\"Nexon\")\n",
        "my_car.start()"
      ],
      "metadata": {
        "id": "JOGTy1DYbHxA",
        "colab": {
          "base_uri": "https://localhost:8080/"
        },
        "outputId": "0d3951a4-020d-4013-ba48-b656582808a7"
      },
      "execution_count": 1,
      "outputs": [
        {
          "output_type": "stream",
          "name": "stdout",
          "text": [
            "TATA Nexon is starting....\n"
          ]
        }
      ]
    },
    {
      "cell_type": "code",
      "source": [
        "class Car:\n",
        "  \"\"\" A class to represent a car object.\"\"\"\n",
        "  def __init__ (self,brand: str, model: str):\n",
        "    \"\"\"Initializes the car's  brand and model.\"\"\"\n",
        "    self.brand = brand\n",
        "    self.model = model\n",
        "\n",
        "  def start(self):\n",
        "    \"\"\" Print a message that the car is starting.\"\"\"\n",
        "    print(f\"{self.brand} {self.model} is starting....\")\n",
        "\n",
        "\n",
        "\n",
        "my_car=Car(\"TATA\",\"Nexon\")\n",
        "my_car.start()"
      ],
      "metadata": {
        "id": "2nEThANj_bks",
        "colab": {
          "base_uri": "https://localhost:8080/"
        },
        "outputId": "0fd99330-c0c3-49d7-aeba-cb13241e07ec"
      },
      "execution_count": 11,
      "outputs": [
        {
          "output_type": "stream",
          "name": "stdout",
          "text": [
            "TATA Nexon is starting....\n"
          ]
        }
      ]
    },
    {
      "cell_type": "code",
      "source": [],
      "metadata": {
        "id": "Py81iMY5uu4k"
      },
      "execution_count": null,
      "outputs": []
    }
  ]
}